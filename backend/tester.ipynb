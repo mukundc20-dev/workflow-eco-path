{
 "cells": [
  {
   "cell_type": "code",
   "execution_count": 1,
   "id": "68838b3a",
   "metadata": {},
   "outputs": [],
   "source": [
    "profiles = [\n",
    "    r'''Matias Cattaneo\n",
    "Position\n",
    "Professor\n",
    "Website\n",
    "Matias Cattaneo's Site\n",
    "Office Phone\n",
    "(609) 258-8825\n",
    "Email\n",
    "cattaneo@princeton.edu\n",
    "Office\n",
    "230 - Sherrerd Hall\n",
    "Bio/Description\n",
    "Research Interests: Econometrics, statistics, machine learning, data science, causal inference, program evaluation, quantitative methods in the social, behavioral and biomedical sciences.''',\n",
    "    r'''Jianqing Fan\n",
    "Position\n",
    "Frederick L. Moore Professor in Finance\n",
    "Website\n",
    "Jianqing Fan's Site\n",
    "Office Phone\n",
    "(609) 258-7924\n",
    "Email\n",
    "jqfan@princeton.edu\n",
    "Office\n",
    "205 - Sherrerd Hall\n",
    "Bio/Description\n",
    "Research Interests: High-dimensional statistics, Machine Learning, financial econometrics, computational biology, biostatistics, graphical and network modeling, portfolio theory, high-frequency finance, time series.''',\n",
    "    r'''Jason Klusowski\n",
    "Position\n",
    "Assistant Professor\n",
    "Website\n",
    "Jason Klusowski's Site\n",
    "Office Phone\n",
    "(609) 258-5305\n",
    "Email\n",
    "jason.klusowski@princeton.edu\n",
    "Office\n",
    "327 - Sherrerd Hall\n",
    "Bio/Description\n",
    "Research Interests: Data science, statistical learning, deep learning, decision tree learning; high-dimensional statistics, information theory, statistical physics, network modeling'''\n",
    "]"
   ]
  },
  {
   "cell_type": "code",
   "execution_count": 2,
   "id": "a772eaa1",
   "metadata": {},
   "outputs": [],
   "source": [
    "from openai import OpenAI\n",
    "from dotenv import load_dotenv\n",
    "import os\n",
    "\n",
    "load_dotenv()\n",
    "\n",
    "novita_client = OpenAI(\n",
    "    api_key=os.getenv(\"novita_api_key\"),\n",
    "    base_url=\"https://api.novita.ai/openai\"\n",
    ")\n",
    "openai_client = OpenAI(\n",
    "    api_key=os.getenv(\"openai_api_key\")\n",
    ")\n"
   ]
  },
  {
   "cell_type": "code",
   "execution_count": 3,
   "id": "9851ed38",
   "metadata": {},
   "outputs": [
    {
     "name": "stdout",
     "output_type": "stream",
     "text": [
      "Hello. I'm doing well, thanks for asking. I'm a large language model, so I don't have feelings or emotions like humans do, but I'm functioning properly and ready to assist you with any questions or tasks you may have. How about you? How's your day going so far?\n",
      "CompletionUsage(completion_tokens=62, prompt_tokens=47, total_tokens=109, completion_tokens_details=None, prompt_tokens_details=None)\n"
     ]
    }
   ],
   "source": [
    "from openai import OpenAI\n",
    "from dotenv import load_dotenv\n",
    "import os\n",
    "\n",
    "load_dotenv()\n",
    "\n",
    "client = OpenAI(\n",
    "    api_key=os.getenv(\"novita_api_key\"),\n",
    "    base_url=\"https://api.novita.ai/openai\"\n",
    ")\n",
    "\n",
    "response = client.chat.completions.create(\n",
    "    model=\"meta-llama/llama-3.3-70b-instruct\",\n",
    "    messages=[\n",
    "        {\"role\": \"system\", \"content\": \"You are a helpful assistant.\"},\n",
    "        {\"role\": \"user\", \"content\": \"Hello, how are you?\"}\n",
    "    ],\n",
    "    max_tokens=120000,\n",
    "    temperature=0.7\n",
    ")\n",
    "\n",
    "print(response.choices[0].message.content)\n",
    "print(response.usage)"
   ]
  }
 ],
 "metadata": {
  "kernelspec": {
   "display_name": ".venv",
   "language": "python",
   "name": "python3"
  },
  "language_info": {
   "codemirror_mode": {
    "name": "ipython",
    "version": 3
   },
   "file_extension": ".py",
   "mimetype": "text/x-python",
   "name": "python",
   "nbconvert_exporter": "python",
   "pygments_lexer": "ipython3",
   "version": "3.13.1"
  }
 },
 "nbformat": 4,
 "nbformat_minor": 5
}
